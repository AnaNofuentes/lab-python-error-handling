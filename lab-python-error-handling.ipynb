{
 "cells": [
  {
   "cell_type": "markdown",
   "id": "25d7736c-ba17-4aff-b6bb-66eba20fbf4e",
   "metadata": {},
   "source": [
    "# Lab | Error Handling"
   ]
  },
  {
   "cell_type": "markdown",
   "id": "bc99b386-7508-47a0-bcdb-d969deaf6c8b",
   "metadata": {},
   "source": [
    "## Exercise: Error Handling for Managing Customer Orders\n",
    "\n",
    "The implementation of your code for managing customer orders assumes that the user will always enter a valid input. \n",
    "\n",
    "For example, we could modify the `initialize_inventory` function to include error handling.\n",
    "   - If the user enters an invalid quantity (e.g., a negative value or a non-numeric value), display an error message and ask them to re-enter the quantity for that product.\n",
    "   - Use a try-except block to handle the error and continue prompting the user until a valid quantity is entered.\n",
    "\n",
    "```python\n",
    "# Step 1: Define the function for initializing the inventory with error handling\n",
    "def initialize_inventory(products):\n",
    "    inventory = {}\n",
    "    for product in products:\n",
    "        valid_quantity = False\n",
    "        while not valid_quantity:\n",
    "            try:\n",
    "                quantity = int(input(f\"Enter the quantity of {product}s available: \"))\n",
    "                if quantity < 0:\n",
    "                    raise ValueError(\"Invalid quantity! Please enter a non-negative value.\")\n",
    "                valid_quantity = True\n",
    "            except ValueError as error:\n",
    "                print(f\"Error: {error}\")\n",
    "        inventory[product] = quantity\n",
    "    return inventory\n",
    "\n",
    "# Or, in another way:\n",
    "\n",
    "def initialize_inventory(products):\n",
    "    inventory = {}\n",
    "    for product in products:\n",
    "        valid_input = False\n",
    "        while not valid_input:\n",
    "            try:\n",
    "                quantity = int(input(f\"Enter the quantity of {product}s available: \"))\n",
    "                if quantity >= 0:\n",
    "                    inventory[product] = quantity\n",
    "                    valid_input = True\n",
    "                else:\n",
    "                    print(\"Quantity cannot be negative. Please enter a valid quantity.\")\n",
    "            except ValueError:\n",
    "                print(\"Invalid input. Please enter a valid quantity.\")\n",
    "    return inventory\n",
    "```\n",
    "\n",
    "Let's enhance your code by implementing error handling to handle invalid inputs.\n",
    "\n",
    "Follow the steps below to complete the exercise:\n",
    "\n",
    "2. Modify the `calculate_total_price` function to include error handling.\n",
    "   - If the user enters an invalid price (e.g., a negative value or a non-numeric value), display an error message and ask them to re-enter the price for that product.\n",
    "   - Use a try-except block to handle the error and continue prompting the user until a valid price is entered.\n",
    "\n",
    "3. Modify the `get_customer_orders` function to include error handling.\n",
    "   - If the user enters an invalid number of orders (e.g., a negative value or a non-numeric value), display an error message and ask them to re-enter the number of orders.\n",
    "   - If the user enters an invalid product name (e.g., a product name that is not in the inventory), or that doesn't have stock available, display an error message and ask them to re-enter the product name. *Hint: you will need to pass inventory as a parameter*\n",
    "   - Use a try-except block to handle the error and continue prompting the user until a valid product name is entered.\n",
    "\n",
    "4. Test your code by running the program and deliberately entering invalid quantities and product names. Make sure the error handling mechanism works as expected.\n"
   ]
  },
  {
   "cell_type": "code",
   "execution_count": null,
   "id": "c7415936",
   "metadata": {},
   "outputs": [],
   "source": [
    "def initialize_inventory(products):\n",
    "    inventory = {}\n",
    "    for product in products:\n",
    "        valid_quantity = False\n",
    "        while not valid_quantity:\n",
    "            try:\n",
    "                quantity = int(input(f\"Enter the quantity of {product}s available: \"))\n",
    "                if quantity < 0:\n",
    "                    raise ValueError(\"Invalid quantity! Please enter a non-negative value.\")\n",
    "                valid_quantity = True\n",
    "            except ValueError as error:\n",
    "                print(f\"Error: {error}\")\n",
    "        inventory[product] = quantity\n",
    "    return inventory"
   ]
  },
  {
   "cell_type": "code",
   "execution_count": null,
   "id": "2cb9760f",
   "metadata": {},
   "outputs": [],
   "source": [
    "def calculate_total_price(customer_orders):\n",
    "    positive_price = False\n",
    "    while not positive_price:\n",
    "        try:\n",
    "            total_price = sum(float(input(f\"Enter the price for {product}: \"))\n",
    "                                    for product in customer_orders)\n",
    "            if total_price < 0:\n",
    "                  raise ValueError(\"Invalid quantity! Please enter a non-negative value.\")\n",
    "            positive_price = True\n",
    "        except ValueError:\n",
    "                print(\"Please enter a correct value:\")\n",
    "    return total_price"
   ]
  },
  {
   "cell_type": "code",
   "execution_count": null,
   "id": "74f785ad",
   "metadata": {},
   "outputs": [],
   "source": [
    "def get_customer_orders(inventory):\n",
    "   while True:\n",
    "      try:\n",
    "         num_orders = int(input(\"Enter the number of customer orders: \"))\n",
    "         if num_orders < 0:\n",
    "            raise ValueError(\"Invalid quantity! Please enter a non-negative value.\")\n",
    "         \n",
    "         customer_orders = set()\n",
    "         for i in range(num_orders):\n",
    "            product= input(\"Enter a name of a product that customer wants to order:\")\n",
    "            if product not in inventory:\n",
    "               raise Exception(\"please enter a correct name of product: \")\n",
    "            customer_orders.add(product)\n",
    "         break\n",
    "      except ValueError:\n",
    "         print(\"Please enter a correct number\")\n",
    "   return customer_orders"
   ]
  },
  {
   "cell_type": "code",
   "execution_count": null,
   "id": "dcec005a",
   "metadata": {},
   "outputs": [],
   "source": [
    "# Lista de productos\n",
    "products = [\"apple\", \"banana\", \"orange\"]\n",
    "\n",
    "# Llamar a la función\n",
    "inventory = initialize_inventory(products)\n",
    "\n",
    "# Mostrar el inventario para verificar los resultados\n",
    "print(\"Final Inventory:\", inventory)"
   ]
  },
  {
   "cell_type": "code",
   "execution_count": null,
   "id": "b9e3111d",
   "metadata": {},
   "outputs": [],
   "source": [
    "orders = get_customer_orders(inventory=('patatas, fritas, saladas, dulces'))\n",
    "print(\"Customer Orders:\", orders)\n"
   ]
  },
  {
   "cell_type": "code",
   "execution_count": null,
   "id": "0e5ea820",
   "metadata": {},
   "outputs": [],
   "source": [
    "customer_orders = [\"apple\", \"banana\", \"orange\"]\n",
    "\n",
    "# Llamar a la función y calcular el precio total\n",
    "total_price = calculate_total_price(customer_orders)\n",
    "\n",
    "# Mostrar el precio total para verificar el resultado\n",
    "print(\"Total Price:\", total_price)"
   ]
  }
 ],
 "metadata": {
  "kernelspec": {
   "display_name": "Python 3 (ipykernel)",
   "language": "python",
   "name": "python3"
  },
  "language_info": {
   "codemirror_mode": {
    "name": "ipython",
    "version": 3
   },
   "file_extension": ".py",
   "mimetype": "text/x-python",
   "name": "python",
   "nbconvert_exporter": "python",
   "pygments_lexer": "ipython3",
   "version": "3.9.13"
  }
 },
 "nbformat": 4,
 "nbformat_minor": 5
}
